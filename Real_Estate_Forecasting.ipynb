{
 "cells": [
  {
   "cell_type": "code",
   "execution_count": 35,
   "metadata": {
    "scrolled": true
   },
   "outputs": [],
   "source": [
    "import pandas as pd\n",
    "import numpy as np\n",
    "%matplotlib inline\n",
    "\n",
    "# Load specific forecasting tools\n",
    "from statsmodels.tsa.statespace.sarimax import SARIMAX\n",
    "\n",
    "from statsmodels.graphics.tsaplots import plot_acf,plot_pacf # for determining (p,q) orders\n",
    "from statsmodels.tsa.seasonal import seasonal_decompose      # for ETS Plots\n",
    "from pmdarima import auto_arima                              # for determining ARIMA orders\n",
    "\n",
    "# Ignore harmless warnings\n",
    "import warnings\n",
    "warnings.filterwarnings(\"ignore\")\n"
   ]
  },
  {
   "cell_type": "code",
   "execution_count": 36,
   "metadata": {},
   "outputs": [],
   "source": [
    "df = pd.read_csv('raw_sales.csv',index_col='datesold',parse_dates=True)"
   ]
  },
  {
   "cell_type": "code",
   "execution_count": 37,
   "metadata": {},
   "outputs": [],
   "source": [
    "df.sort_values(by='datesold', inplace=True)"
   ]
  },
  {
   "cell_type": "markdown",
   "metadata": {},
   "source": [
    "### Visualize Daily Housing Pricess\n",
    "Y-axis represented in thousands"
   ]
  },
  {
   "cell_type": "code",
   "execution_count": 38,
   "metadata": {},
   "outputs": [
    {
     "data": {
      "text/plain": [
       "<matplotlib.axes._subplots.AxesSubplot at 0x7fc151bccd60>"
      ]
     },
     "execution_count": 38,
     "metadata": {},
     "output_type": "execute_result"
    },
    {
     "data": {
      "image/png": "[encoded data removed]",
      "text/plain": [
       "<Figure size 432x288 with 1 Axes>"
      ]
     },
     "metadata": {
      "needs_background": "light"
     },
     "output_type": "display_data"
    }
   ],
   "source": [
    "df['price'].plot()"
   ]
  },
  {
   "cell_type": "code",
   "execution_count": 39,
   "metadata": {},
   "outputs": [
    {
     "data": {
      "text/html": [
       "<div>\n",
       "<style scoped>\n",
       "    .dataframe tbody tr th:only-of-type {\n",
       "        vertical-align: middle;\n",
       "    }\n",
       "\n",
       "    .dataframe tbody tr th {\n",
       "        vertical-align: top;\n",
       "    }\n",
       "\n",
       "    .dataframe thead th {\n",
       "        text-align: right;\n",
       "    }\n",
       "</style>\n",
       "<table border=\"1\" class=\"dataframe\">\n",
       "  <thead>\n",
       "    <tr style=\"text-align: right;\">\n",
       "      <th></th>\n",
       "      <th>datesold</th>\n",
       "      <th>postcode</th>\n",
       "      <th>price</th>\n",
       "      <th>propertyType</th>\n",
       "      <th>bedrooms</th>\n",
       "    </tr>\n",
       "  </thead>\n",
       "  <tbody>\n",
       "    <tr>\n",
       "      <th>0</th>\n",
       "      <td>2007-02-07</td>\n",
       "      <td>2607</td>\n",
       "      <td>525000</td>\n",
       "      <td>house</td>\n",
       "      <td>4</td>\n",
       "    </tr>\n",
       "    <tr>\n",
       "      <th>1</th>\n",
       "      <td>2007-02-27</td>\n",
       "      <td>2906</td>\n",
       "      <td>290000</td>\n",
       "      <td>house</td>\n",
       "      <td>3</td>\n",
       "    </tr>\n",
       "    <tr>\n",
       "      <th>2</th>\n",
       "      <td>2007-03-07</td>\n",
       "      <td>2905</td>\n",
       "      <td>328000</td>\n",
       "      <td>house</td>\n",
       "      <td>3</td>\n",
       "    </tr>\n",
       "    <tr>\n",
       "      <th>3</th>\n",
       "      <td>2007-03-09</td>\n",
       "      <td>2905</td>\n",
       "      <td>380000</td>\n",
       "      <td>house</td>\n",
       "      <td>4</td>\n",
       "    </tr>\n",
       "    <tr>\n",
       "      <th>4</th>\n",
       "      <td>2007-03-21</td>\n",
       "      <td>2906</td>\n",
       "      <td>310000</td>\n",
       "      <td>house</td>\n",
       "      <td>3</td>\n",
       "    </tr>\n",
       "  </tbody>\n",
       "</table>\n",
       "</div>"
      ],
      "text/plain": [
       "    datesold  postcode   price propertyType  bedrooms\n",
       "0 2007-02-07      2607  525000        house         4\n",
       "1 2007-02-27      2906  290000        house         3\n",
       "2 2007-03-07      2905  328000        house         3\n",
       "3 2007-03-09      2905  380000        house         4\n",
       "4 2007-03-21      2906  310000        house         3"
      ]
     },
     "execution_count": 39,
     "metadata": {},
     "output_type": "execute_result"
    }
   ],
   "source": [
    "df.reset_index(drop=False, inplace=True)\n",
    "df.head()"
   ]
  },
  {
   "cell_type": "markdown",
   "metadata": {},
   "source": [
    "### Create Augmented Dickey Fuller Test for Stationarity\n",
    "Create an easy to use test to determine whether the data is stationary, as this will help determine the type of forecasting model we will use."
   ]
  },
  {
   "cell_type": "code",
   "execution_count": 40,
   "metadata": {},
   "outputs": [],
   "source": [
    "from statsmodels.tsa.stattools import adfuller\n",
    "\n",
    "def adf_test(series,title=''):\n",
    "    \"\"\"\n",
    "    Pass in a time series and an optional title, returns an ADF report\n",
    "    \"\"\"\n",
    "    print(f'Augmented Dickey-Fuller Test: {title}')\n",
    "    result = adfuller(series.dropna(),autolag='AIC') # .dropna() handles differenced data\n",
    "    \n",
    "    labels = ['ADF test statistic','p-value','# lags used','# observations']\n",
    "    out = pd.Series(result[0:4],index=labels)\n",
    "\n",
    "    for key,val in result[4].items():\n",
    "        out[f'critical value ({key})']=val\n",
    "        \n",
    "    print(out.to_string())          # .to_string() removes the line \"dtype: float64\"\n",
    "    \n",
    "    if result[1] <= 0.05:\n",
    "        print(\"Strong evidence against the null hypothesis\")\n",
    "        print(\"Reject the null hypothesis\")\n",
    "        print(\"Data has no unit root and is stationary\")\n",
    "    else:\n",
    "        print(\"Weak evidence against the null hypothesis\")\n",
    "        print(\"Fail to reject the null hypothesis\")\n",
    "        print(\"Data has a unit root and is non-stationary\")"
   ]
  },
  {
   "cell_type": "markdown",
   "metadata": {},
   "source": [
    "### Monthly Aggregation"
   ]
  },
  {
   "cell_type": "code",
   "execution_count": 41,
   "metadata": {},
   "outputs": [],
   "source": [
    "df['month'] = df['datesold'].values.astype('datetime64[M]')"
   ]
  },
  {
   "cell_type": "code",
   "execution_count": 42,
   "metadata": {},
   "outputs": [
    {
     "data": {
      "text/html": [
       "<div>\n",
       "<style scoped>\n",
       "    .dataframe tbody tr th:only-of-type {\n",
       "        vertical-align: middle;\n",
       "    }\n",
       "\n",
       "    .dataframe tbody tr th {\n",
       "        vertical-align: top;\n",
       "    }\n",
       "\n",
       "    .dataframe thead th {\n",
       "        text-align: right;\n",
       "    }\n",
       "</style>\n",
       "<table border=\"1\" class=\"dataframe\">\n",
       "  <thead>\n",
       "    <tr style=\"text-align: right;\">\n",
       "      <th></th>\n",
       "      <th>price</th>\n",
       "      <th>bedrooms</th>\n",
       "    </tr>\n",
       "    <tr>\n",
       "      <th>month</th>\n",
       "      <th></th>\n",
       "      <th></th>\n",
       "    </tr>\n",
       "  </thead>\n",
       "  <tbody>\n",
       "    <tr>\n",
       "      <th>2007-02-01</th>\n",
       "      <td>407500</td>\n",
       "      <td>3.500000</td>\n",
       "    </tr>\n",
       "    <tr>\n",
       "      <th>2007-03-01</th>\n",
       "      <td>328000</td>\n",
       "      <td>3.333333</td>\n",
       "    </tr>\n",
       "    <tr>\n",
       "      <th>2007-04-01</th>\n",
       "      <td>465000</td>\n",
       "      <td>3.666667</td>\n",
       "    </tr>\n",
       "    <tr>\n",
       "      <th>2007-05-01</th>\n",
       "      <td>339500</td>\n",
       "      <td>3.000000</td>\n",
       "    </tr>\n",
       "    <tr>\n",
       "      <th>2007-06-01</th>\n",
       "      <td>451000</td>\n",
       "      <td>3.333333</td>\n",
       "    </tr>\n",
       "  </tbody>\n",
       "</table>\n",
       "</div>"
      ],
      "text/plain": [
       "             price  bedrooms\n",
       "month                       \n",
       "2007-02-01  407500  3.500000\n",
       "2007-03-01  328000  3.333333\n",
       "2007-04-01  465000  3.666667\n",
       "2007-05-01  339500  3.000000\n",
       "2007-06-01  451000  3.333333"
      ]
     },
     "execution_count": 42,
     "metadata": {},
     "output_type": "execute_result"
    }
   ],
   "source": [
    "monthly_df = df.groupby(['month']).agg({'price':'median', 'bedrooms':'mean'})\n",
    "# monthly_df.reset_index(drop=False, inplace=True)\n",
    "monthly_df.head()"
   ]
  },
  {
   "cell_type": "code",
   "execution_count": 43,
   "metadata": {},
   "outputs": [],
   "source": [
    "monthly_df = monthly_df.asfreq('MS')"
   ]
  },
  {
   "cell_type": "code",
   "execution_count": 44,
   "metadata": {},
   "outputs": [
    {
     "data": {
      "image/png": "[encoded data removed]",
      "text/plain": [
       "<Figure size 432x288 with 4 Axes>"
      ]
     },
     "metadata": {
      "needs_background": "light"
     },
     "output_type": "display_data"
    }
   ],
   "source": [
    "result = seasonal_decompose(monthly_df['price'], model='add')\n",
    "result.plot();"
   ]
  },
  {
   "cell_type": "markdown",
   "metadata": {},
   "source": [
    "By highlighting the seasonal component of our seasonal decomposition we can see there is some type of seasonality involved in this data"
   ]
  },
  {
   "cell_type": "code",
   "execution_count": 45,
   "metadata": {},
   "outputs": [
    {
     "data": {
      "text/plain": [
       "<matplotlib.axes._subplots.AxesSubplot at 0x7fc152be9970>"
      ]
     },
     "execution_count": 45,
     "metadata": {},
     "output_type": "execute_result"
    },
    {
     "data": {
      "image/png": "[encoded data removed]",
      "text/plain": [
       "<Figure size 432x288 with 1 Axes>"
      ]
     },
     "metadata": {
      "needs_background": "light"
     },
     "output_type": "display_data"
    }
   ],
   "source": [
    "result.seasonal.plot()"
   ]
  },
  {
   "cell_type": "markdown",
   "metadata": {},
   "source": [
    "Based on the results of our Augmented Dickey Fuller test we can see that the given the p-value is greater than 0.05, we cannot reject the null hypothesis, and should assume the data is non-stationary."
   ]
  },
  {
   "cell_type": "code",
   "execution_count": 46,
   "metadata": {
    "scrolled": true
   },
   "outputs": [
    {
     "name": "stdout",
     "output_type": "stream",
     "text": [
      "Augmented Dickey-Fuller Test: \n",
      "ADF test statistic       -1.242164\n",
      "p-value                   0.655200\n",
      "# lags used               5.000000\n",
      "# observations          144.000000\n",
      "critical value (1%)      -3.476598\n",
      "critical value (5%)      -2.881829\n",
      "critical value (10%)     -2.577589\n",
      "Weak evidence against the null hypothesis\n",
      "Fail to reject the null hypothesis\n",
      "Data has a unit root and is non-stationary\n"
     ]
    }
   ],
   "source": [
    "adf_test(monthly_df['price'])"
   ]
  },
  {
   "cell_type": "markdown",
   "metadata": {},
   "source": [
    "## Compare performance of SARIMA and SARIMAX forecasting models"
   ]
  },
  {
   "cell_type": "markdown",
   "metadata": {},
   "source": [
    "Based on the Akakie Information Criterion we can see that the added complexity of the Exogenous variable within the SARIMAX model was outweighed by the improvement in model fit. AIC is particularly valuable for time series, because time series analysis’ most valuable data is often the most recent, which is stuck in the validation and test sets. As a result, training on all the data and using AIC can result in improved model selection over traditional train/validation/test model selection methods."
   ]
  },
  {
   "cell_type": "code",
   "execution_count": 47,
   "metadata": {},
   "outputs": [
    {
     "data": {
      "text/html": [
       "<table class=\"simpletable\">\n",
       "<caption>SARIMAX Results</caption>\n",
       "<tr>\n",
       "  <th>Dep. Variable:</th>                  <td>y</td>               <th>  No. Observations:  </th>    <td>150</td>   \n",
       "</tr>\n",
       "<tr>\n",
       "  <th>Model:</th>           <td>SARIMAX(1, 1, 1)x(1, 0, 1, 12)</td> <th>  Log Likelihood     </th> <td>-1758.460</td>\n",
       "</tr>\n",
       "<tr>\n",
       "  <th>Date:</th>                   <td>Sun, 11 Oct 2020</td>        <th>  AIC                </th> <td>3526.921</td> \n",
       "</tr>\n",
       "<tr>\n",
       "  <th>Time:</th>                       <td>15:52:22</td>            <th>  BIC                </th> <td>3541.940</td> \n",
       "</tr>\n",
       "<tr>\n",
       "  <th>Sample:</th>                         <td>0</td>               <th>  HQIC               </th> <td>3533.023</td> \n",
       "</tr>\n",
       "<tr>\n",
       "  <th></th>                             <td> - 150</td>             <th>                     </th>     <td> </td>    \n",
       "</tr>\n",
       "<tr>\n",
       "  <th>Covariance Type:</th>               <td>opg</td>              <th>                     </th>     <td> </td>    \n",
       "</tr>\n",
       "</table>\n",
       "<table class=\"simpletable\">\n",
       "<tr>\n",
       "      <td></td>        <th>coef</th>     <th>std err</th>      <th>z</th>      <th>P>|z|</th>  <th>[0.025</th>    <th>0.975]</th>  \n",
       "</tr>\n",
       "<tr>\n",
       "  <th>ar.L1</th>    <td>   -0.6058</td> <td>    0.065</td> <td>   -9.373</td> <td> 0.000</td> <td>   -0.733</td> <td>   -0.479</td>\n",
       "</tr>\n",
       "<tr>\n",
       "  <th>ma.L1</th>    <td>    0.3107</td> <td>    0.095</td> <td>    3.261</td> <td> 0.001</td> <td>    0.124</td> <td>    0.497</td>\n",
       "</tr>\n",
       "<tr>\n",
       "  <th>ar.S.L12</th> <td>    0.9498</td> <td>    0.066</td> <td>   14.294</td> <td> 0.000</td> <td>    0.820</td> <td>    1.080</td>\n",
       "</tr>\n",
       "<tr>\n",
       "  <th>ma.S.L12</th> <td>   -0.8688</td> <td>    0.107</td> <td>   -8.110</td> <td> 0.000</td> <td>   -1.079</td> <td>   -0.659</td>\n",
       "</tr>\n",
       "<tr>\n",
       "  <th>sigma2</th>   <td> 9.541e+08</td> <td> 6.25e-11</td> <td> 1.53e+19</td> <td> 0.000</td> <td> 9.54e+08</td> <td> 9.54e+08</td>\n",
       "</tr>\n",
       "</table>\n",
       "<table class=\"simpletable\">\n",
       "<tr>\n",
       "  <th>Ljung-Box (Q):</th>          <td>51.64</td> <th>  Jarque-Bera (JB):  </th> <td>23.93</td>\n",
       "</tr>\n",
       "<tr>\n",
       "  <th>Prob(Q):</th>                <td>0.10</td>  <th>  Prob(JB):          </th> <td>0.00</td> \n",
       "</tr>\n",
       "<tr>\n",
       "  <th>Heteroskedasticity (H):</th> <td>0.46</td>  <th>  Skew:              </th> <td>0.03</td> \n",
       "</tr>\n",
       "<tr>\n",
       "  <th>Prob(H) (two-sided):</th>    <td>0.01</td>  <th>  Kurtosis:          </th> <td>4.96</td> \n",
       "</tr>\n",
       "</table><br/><br/>Warnings:<br/>[1] Covariance matrix calculated using the outer product of gradients (complex-step).<br/>[2] Covariance matrix is singular or near-singular, with condition number 1.56e+34. Standard errors may be unstable."
      ],
      "text/plain": [
       "<class 'statsmodels.iolib.summary.Summary'>\n",
       "\"\"\"\n",
       "                                     SARIMAX Results                                      \n",
       "==========================================================================================\n",
       "Dep. Variable:                                  y   No. Observations:                  150\n",
       "Model:             SARIMAX(1, 1, 1)x(1, 0, 1, 12)   Log Likelihood               -1758.460\n",
       "Date:                            Sun, 11 Oct 2020   AIC                           3526.921\n",
       "Time:                                    15:52:22   BIC                           3541.940\n",
       "Sample:                                         0   HQIC                          3533.023\n",
       "                                            - 150                                         \n",
       "Covariance Type:                              opg                                         \n",
       "==============================================================================\n",
       "                 coef    std err          z      P>|z|      [0.025      0.975]\n",
       "------------------------------------------------------------------------------\n",
       "ar.L1         -0.6058      0.065     -9.373      0.000      -0.733      -0.479\n",
       "ma.L1          0.3107      0.095      3.261      0.001       0.124       0.497\n",
       "ar.S.L12       0.9498      0.066     14.294      0.000       0.820       1.080\n",
       "ma.S.L12      -0.8688      0.107     -8.110      0.000      -1.079      -0.659\n",
       "sigma2      9.541e+08   6.25e-11   1.53e+19      0.000    9.54e+08    9.54e+08\n",
       "===================================================================================\n",
       "Ljung-Box (Q):                       51.64   Jarque-Bera (JB):                23.93\n",
       "Prob(Q):                              0.10   Prob(JB):                         0.00\n",
       "Heteroskedasticity (H):               0.46   Skew:                             0.03\n",
       "Prob(H) (two-sided):                  0.01   Kurtosis:                         4.96\n",
       "===================================================================================\n",
       "\n",
       "Warnings:\n",
       "[1] Covariance matrix calculated using the outer product of gradients (complex-step).\n",
       "[2] Covariance matrix is singular or near-singular, with condition number 1.56e+34. Standard errors may be unstable.\n",
       "\"\"\""
      ]
     },
     "execution_count": 47,
     "metadata": {},
     "output_type": "execute_result"
    }
   ],
   "source": [
    "auto_arima(monthly_df['price'],seasonal=True,m=12).summary()"
   ]
  },
  {
   "cell_type": "code",
   "execution_count": 48,
   "metadata": {
    "scrolled": true
   },
   "outputs": [
    {
     "data": {
      "text/html": [
       "<table class=\"simpletable\">\n",
       "<caption>SARIMAX Results</caption>\n",
       "<tr>\n",
       "  <th>Dep. Variable:</th>                  <td>y</td>               <th>  No. Observations:  </th>    <td>150</td>   \n",
       "</tr>\n",
       "<tr>\n",
       "  <th>Model:</th>           <td>SARIMAX(0, 1, 1)x(1, 0, 1, 12)</td> <th>  Log Likelihood     </th> <td>-1729.043</td>\n",
       "</tr>\n",
       "<tr>\n",
       "  <th>Date:</th>                   <td>Sun, 11 Oct 2020</td>        <th>  AIC                </th> <td>3470.087</td> \n",
       "</tr>\n",
       "<tr>\n",
       "  <th>Time:</th>                       <td>15:52:27</td>            <th>  BIC                </th> <td>3488.111</td> \n",
       "</tr>\n",
       "<tr>\n",
       "  <th>Sample:</th>                    <td>02-01-2007</td>           <th>  HQIC               </th> <td>3477.410</td> \n",
       "</tr>\n",
       "<tr>\n",
       "  <th></th>                          <td>- 07-01-2019</td>          <th>                     </th>     <td> </td>    \n",
       "</tr>\n",
       "<tr>\n",
       "  <th>Covariance Type:</th>               <td>opg</td>              <th>                     </th>     <td> </td>    \n",
       "</tr>\n",
       "</table>\n",
       "<table class=\"simpletable\">\n",
       "<tr>\n",
       "      <td></td>         <th>coef</th>     <th>std err</th>      <th>z</th>      <th>P>|z|</th>  <th>[0.025</th>    <th>0.975]</th>  \n",
       "</tr>\n",
       "<tr>\n",
       "  <th>intercept</th> <td> 3190.8230</td> <td> 1546.328</td> <td>    2.063</td> <td> 0.039</td> <td>  160.076</td> <td> 6221.570</td>\n",
       "</tr>\n",
       "<tr>\n",
       "  <th>bedrooms</th>  <td> 1.476e+05</td> <td> 4790.953</td> <td>   30.801</td> <td> 0.000</td> <td> 1.38e+05</td> <td> 1.57e+05</td>\n",
       "</tr>\n",
       "<tr>\n",
       "  <th>ma.L1</th>     <td>   -0.6719</td> <td>    0.053</td> <td>  -12.704</td> <td> 0.000</td> <td>   -0.776</td> <td>   -0.568</td>\n",
       "</tr>\n",
       "<tr>\n",
       "  <th>ar.S.L12</th>  <td>   -0.5182</td> <td>    0.386</td> <td>   -1.344</td> <td> 0.179</td> <td>   -1.274</td> <td>    0.238</td>\n",
       "</tr>\n",
       "<tr>\n",
       "  <th>ma.S.L12</th>  <td>    0.3244</td> <td>    0.424</td> <td>    0.765</td> <td> 0.444</td> <td>   -0.506</td> <td>    1.155</td>\n",
       "</tr>\n",
       "<tr>\n",
       "  <th>sigma2</th>    <td> 6.818e+08</td> <td>    0.155</td> <td>  4.4e+09</td> <td> 0.000</td> <td> 6.82e+08</td> <td> 6.82e+08</td>\n",
       "</tr>\n",
       "</table>\n",
       "<table class=\"simpletable\">\n",
       "<tr>\n",
       "  <th>Ljung-Box (Q):</th>          <td>44.28</td> <th>  Jarque-Bera (JB):  </th> <td>119.68</td>\n",
       "</tr>\n",
       "<tr>\n",
       "  <th>Prob(Q):</th>                <td>0.30</td>  <th>  Prob(JB):          </th>  <td>0.00</td> \n",
       "</tr>\n",
       "<tr>\n",
       "  <th>Heteroskedasticity (H):</th> <td>0.25</td>  <th>  Skew:              </th>  <td>0.55</td> \n",
       "</tr>\n",
       "<tr>\n",
       "  <th>Prob(H) (two-sided):</th>    <td>0.00</td>  <th>  Kurtosis:          </th>  <td>7.25</td> \n",
       "</tr>\n",
       "</table><br/><br/>Warnings:<br/>[1] Covariance matrix calculated using the outer product of gradients (complex-step).<br/>[2] Covariance matrix is singular or near-singular, with condition number 8.08e+24. Standard errors may be unstable."
      ],
      "text/plain": [
       "<class 'statsmodels.iolib.summary.Summary'>\n",
       "\"\"\"\n",
       "                                     SARIMAX Results                                      \n",
       "==========================================================================================\n",
       "Dep. Variable:                                  y   No. Observations:                  150\n",
       "Model:             SARIMAX(0, 1, 1)x(1, 0, 1, 12)   Log Likelihood               -1729.043\n",
       "Date:                            Sun, 11 Oct 2020   AIC                           3470.087\n",
       "Time:                                    15:52:27   BIC                           3488.111\n",
       "Sample:                                02-01-2007   HQIC                          3477.410\n",
       "                                     - 07-01-2019                                         \n",
       "Covariance Type:                              opg                                         \n",
       "==============================================================================\n",
       "                 coef    std err          z      P>|z|      [0.025      0.975]\n",
       "------------------------------------------------------------------------------\n",
       "intercept   3190.8230   1546.328      2.063      0.039     160.076    6221.570\n",
       "bedrooms    1.476e+05   4790.953     30.801      0.000    1.38e+05    1.57e+05\n",
       "ma.L1         -0.6719      0.053    -12.704      0.000      -0.776      -0.568\n",
       "ar.S.L12      -0.5182      0.386     -1.344      0.179      -1.274       0.238\n",
       "ma.S.L12       0.3244      0.424      0.765      0.444      -0.506       1.155\n",
       "sigma2      6.818e+08      0.155    4.4e+09      0.000    6.82e+08    6.82e+08\n",
       "===================================================================================\n",
       "Ljung-Box (Q):                       44.28   Jarque-Bera (JB):               119.68\n",
       "Prob(Q):                              0.30   Prob(JB):                         0.00\n",
       "Heteroskedasticity (H):               0.25   Skew:                             0.55\n",
       "Prob(H) (two-sided):                  0.00   Kurtosis:                         7.25\n",
       "===================================================================================\n",
       "\n",
       "Warnings:\n",
       "[1] Covariance matrix calculated using the outer product of gradients (complex-step).\n",
       "[2] Covariance matrix is singular or near-singular, with condition number 8.08e+24. Standard errors may be unstable.\n",
       "\"\"\""
      ]
     },
     "execution_count": 48,
     "metadata": {},
     "output_type": "execute_result"
    }
   ],
   "source": [
    "auto_arima(monthly_df['price'], exogenous = monthly_df[['bedrooms']], seasonal=True,m=12).summary()"
   ]
  },
  {
   "cell_type": "markdown",
   "metadata": {},
   "source": [
    "## Re-train and Test SARIMA and SARIMAX models using training / testing data sets"
   ]
  },
  {
   "cell_type": "code",
   "execution_count": 49,
   "metadata": {},
   "outputs": [],
   "source": [
    "train = monthly_df[:138]\n",
    "test = monthly_df[138:]"
   ]
  },
  {
   "cell_type": "markdown",
   "metadata": {},
   "source": [
    "## SARIMA Model without Exogenous Variable\n",
    "Reperform Auto ARIMA on training data to identify and apply the parameters used to predict on our test set"
   ]
  },
  {
   "cell_type": "code",
   "execution_count": 50,
   "metadata": {
    "scrolled": true
   },
   "outputs": [
    {
     "data": {
      "text/html": [
       "<table class=\"simpletable\">\n",
       "<caption>SARIMAX Results</caption>\n",
       "<tr>\n",
       "  <th>Dep. Variable:</th>                   <td>y</td>                <th>  No. Observations:  </th>    <td>138</td>   \n",
       "</tr>\n",
       "<tr>\n",
       "  <th>Model:</th>           <td>SARIMAX(1, 1, 0)x(1, 0, [1], 12)</td> <th>  Log Likelihood     </th> <td>-1621.353</td>\n",
       "</tr>\n",
       "<tr>\n",
       "  <th>Date:</th>                    <td>Sun, 11 Oct 2020</td>         <th>  AIC                </th> <td>3252.705</td> \n",
       "</tr>\n",
       "<tr>\n",
       "  <th>Time:</th>                        <td>15:52:32</td>             <th>  BIC                </th> <td>3267.305</td> \n",
       "</tr>\n",
       "<tr>\n",
       "  <th>Sample:</th>                          <td>0</td>                <th>  HQIC               </th> <td>3258.638</td> \n",
       "</tr>\n",
       "<tr>\n",
       "  <th></th>                              <td> - 138</td>              <th>                     </th>     <td> </td>    \n",
       "</tr>\n",
       "<tr>\n",
       "  <th>Covariance Type:</th>                <td>opg</td>               <th>                     </th>     <td> </td>    \n",
       "</tr>\n",
       "</table>\n",
       "<table class=\"simpletable\">\n",
       "<tr>\n",
       "      <td></td>         <th>coef</th>     <th>std err</th>      <th>z</th>      <th>P>|z|</th>  <th>[0.025</th>    <th>0.975]</th>  \n",
       "</tr>\n",
       "<tr>\n",
       "  <th>intercept</th> <td> 2449.5839</td> <td> 2116.737</td> <td>    1.157</td> <td> 0.247</td> <td>-1699.145</td> <td> 6598.313</td>\n",
       "</tr>\n",
       "<tr>\n",
       "  <th>ar.L1</th>     <td>   -0.3554</td> <td>    0.036</td> <td>   -9.797</td> <td> 0.000</td> <td>   -0.426</td> <td>   -0.284</td>\n",
       "</tr>\n",
       "<tr>\n",
       "  <th>ar.S.L12</th>  <td>    0.6775</td> <td>    0.257</td> <td>    2.634</td> <td> 0.008</td> <td>    0.173</td> <td>    1.182</td>\n",
       "</tr>\n",
       "<tr>\n",
       "  <th>ma.S.L12</th>  <td>   -0.5403</td> <td>    0.309</td> <td>   -1.750</td> <td> 0.080</td> <td>   -1.145</td> <td>    0.065</td>\n",
       "</tr>\n",
       "<tr>\n",
       "  <th>sigma2</th>    <td> 1.164e+09</td> <td>    0.010</td> <td>  1.2e+11</td> <td> 0.000</td> <td> 1.16e+09</td> <td> 1.16e+09</td>\n",
       "</tr>\n",
       "</table>\n",
       "<table class=\"simpletable\">\n",
       "<tr>\n",
       "  <th>Ljung-Box (Q):</th>          <td>37.52</td> <th>  Jarque-Bera (JB):  </th> <td>24.61</td>\n",
       "</tr>\n",
       "<tr>\n",
       "  <th>Prob(Q):</th>                <td>0.58</td>  <th>  Prob(JB):          </th> <td>0.00</td> \n",
       "</tr>\n",
       "<tr>\n",
       "  <th>Heteroskedasticity (H):</th> <td>0.40</td>  <th>  Skew:              </th> <td>0.13</td> \n",
       "</tr>\n",
       "<tr>\n",
       "  <th>Prob(H) (two-sided):</th>    <td>0.00</td>  <th>  Kurtosis:          </th> <td>5.06</td> \n",
       "</tr>\n",
       "</table><br/><br/>Warnings:<br/>[1] Covariance matrix calculated using the outer product of gradients (complex-step).<br/>[2] Covariance matrix is singular or near-singular, with condition number 2.91e+26. Standard errors may be unstable."
      ],
      "text/plain": [
       "<class 'statsmodels.iolib.summary.Summary'>\n",
       "\"\"\"\n",
       "                                      SARIMAX Results                                       \n",
       "============================================================================================\n",
       "Dep. Variable:                                    y   No. Observations:                  138\n",
       "Model:             SARIMAX(1, 1, 0)x(1, 0, [1], 12)   Log Likelihood               -1621.353\n",
       "Date:                              Sun, 11 Oct 2020   AIC                           3252.705\n",
       "Time:                                      15:52:32   BIC                           3267.305\n",
       "Sample:                                           0   HQIC                          3258.638\n",
       "                                              - 138                                         \n",
       "Covariance Type:                                opg                                         \n",
       "==============================================================================\n",
       "                 coef    std err          z      P>|z|      [0.025      0.975]\n",
       "------------------------------------------------------------------------------\n",
       "intercept   2449.5839   2116.737      1.157      0.247   -1699.145    6598.313\n",
       "ar.L1         -0.3554      0.036     -9.797      0.000      -0.426      -0.284\n",
       "ar.S.L12       0.6775      0.257      2.634      0.008       0.173       1.182\n",
       "ma.S.L12      -0.5403      0.309     -1.750      0.080      -1.145       0.065\n",
       "sigma2      1.164e+09      0.010    1.2e+11      0.000    1.16e+09    1.16e+09\n",
       "===================================================================================\n",
       "Ljung-Box (Q):                       37.52   Jarque-Bera (JB):                24.61\n",
       "Prob(Q):                              0.58   Prob(JB):                         0.00\n",
       "Heteroskedasticity (H):               0.40   Skew:                             0.13\n",
       "Prob(H) (two-sided):                  0.00   Kurtosis:                         5.06\n",
       "===================================================================================\n",
       "\n",
       "Warnings:\n",
       "[1] Covariance matrix calculated using the outer product of gradients (complex-step).\n",
       "[2] Covariance matrix is singular or near-singular, with condition number 2.91e+26. Standard errors may be unstable.\n",
       "\"\"\""
      ]
     },
     "execution_count": 50,
     "metadata": {},
     "output_type": "execute_result"
    }
   ],
   "source": [
    "auto_arima(train['price'], seasonal=True,m=12).summary()"
   ]
  },
  {
   "cell_type": "markdown",
   "metadata": {},
   "source": [
    "Use parameters identified above from Auto ARIMA to fit model.\n",
    "\n",
    "Setting enfore_invertibility = True results in SARIMAX attempting to force the more recent events to have a heavier weight when compared to older data points. In some cases it may not be appropriate to weight the data points in such a way, and can result in an error. "
   ]
  },
  {
   "cell_type": "code",
   "execution_count": 51,
   "metadata": {},
   "outputs": [],
   "source": [
    "model = SARIMAX(train['price'],order=(1,1,0),seasonal_order=(1, 0, 1, 12),enforce_invertibility=False)\n",
    "results = model.fit()"
   ]
  },
  {
   "cell_type": "code",
   "execution_count": 52,
   "metadata": {},
   "outputs": [],
   "source": [
    "# Obtain predicted values\n",
    "start=len(train)\n",
    "end=len(train)+len(test)-1\n",
    "sarima_predictions = results.predict(start=start, end=end, dynamic=False).rename('SARIMA(1,1,0)(1,0,1,12) Predictions')"
   ]
  },
  {
   "cell_type": "markdown",
   "metadata": {},
   "source": [
    "### Evaluate Model Performance of SARIMA model without Exogenous Variable"
   ]
  },
  {
   "cell_type": "code",
   "execution_count": 53,
   "metadata": {},
   "outputs": [
    {
     "name": "stdout",
     "output_type": "stream",
     "text": [
      "SARIMA(1,1,0)(1,0,1,12) MSE Error: 799596289.4\n",
      "SARIMA(1,1,0)(1,0,1,12) RMSE Error: 28277.13368\n"
     ]
    }
   ],
   "source": [
    "from statsmodels.tools.eval_measures import mse,rmse\n",
    "\n",
    "error1 = mse(test['price'], sarima_predictions)\n",
    "error2 = rmse(test['price'], sarima_predictions)\n",
    "\n",
    "print(f'SARIMA(1,1,0)(1,0,1,12) MSE Error: {error1:11.10}')\n",
    "print(f'SARIMA(1,1,0)(1,0,1,12) RMSE Error: {error2:11.10}')"
   ]
  },
  {
   "cell_type": "markdown",
   "metadata": {},
   "source": [
    "## SARIMAX Model with Exogenous Variable"
   ]
  },
  {
   "cell_type": "code",
   "execution_count": 54,
   "metadata": {},
   "outputs": [
    {
     "data": {
      "text/html": [
       "<table class=\"simpletable\">\n",
       "<caption>SARIMAX Results</caption>\n",
       "<tr>\n",
       "  <th>Dep. Variable:</th>                    <td>y</td>                  <th>  No. Observations:  </th>    <td>138</td>   \n",
       "</tr>\n",
       "<tr>\n",
       "  <th>Model:</th>           <td>SARIMAX(0, 1, 1)x(1, 0, [1, 2], 12)</td> <th>  Log Likelihood     </th> <td>-1590.542</td>\n",
       "</tr>\n",
       "<tr>\n",
       "  <th>Date:</th>                     <td>Sun, 11 Oct 2020</td>           <th>  AIC                </th> <td>3193.084</td> \n",
       "</tr>\n",
       "<tr>\n",
       "  <th>Time:</th>                         <td>15:53:03</td>               <th>  BIC                </th> <td>3210.604</td> \n",
       "</tr>\n",
       "<tr>\n",
       "  <th>Sample:</th>                      <td>02-01-2007</td>              <th>  HQIC               </th> <td>3200.204</td> \n",
       "</tr>\n",
       "<tr>\n",
       "  <th></th>                            <td>- 07-01-2018</td>             <th>                     </th>     <td> </td>    \n",
       "</tr>\n",
       "<tr>\n",
       "  <th>Covariance Type:</th>                 <td>opg</td>                 <th>                     </th>     <td> </td>    \n",
       "</tr>\n",
       "</table>\n",
       "<table class=\"simpletable\">\n",
       "<tr>\n",
       "      <td></td>        <th>coef</th>     <th>std err</th>      <th>z</th>      <th>P>|z|</th>  <th>[0.025</th>    <th>0.975]</th>  \n",
       "</tr>\n",
       "<tr>\n",
       "  <th>bedrooms</th> <td> 1.384e+05</td> <td> 5858.389</td> <td>   23.619</td> <td> 0.000</td> <td> 1.27e+05</td> <td>  1.5e+05</td>\n",
       "</tr>\n",
       "<tr>\n",
       "  <th>ma.L1</th>    <td>   -0.6219</td> <td>    0.056</td> <td>  -11.157</td> <td> 0.000</td> <td>   -0.731</td> <td>   -0.513</td>\n",
       "</tr>\n",
       "<tr>\n",
       "  <th>ar.S.L12</th> <td>    0.6421</td> <td>    0.312</td> <td>    2.056</td> <td> 0.040</td> <td>    0.030</td> <td>    1.254</td>\n",
       "</tr>\n",
       "<tr>\n",
       "  <th>ma.S.L12</th> <td>   -0.8934</td> <td>    0.327</td> <td>   -2.736</td> <td> 0.006</td> <td>   -1.533</td> <td>   -0.253</td>\n",
       "</tr>\n",
       "<tr>\n",
       "  <th>ma.S.L24</th> <td>    0.3614</td> <td>    0.090</td> <td>    4.007</td> <td> 0.000</td> <td>    0.185</td> <td>    0.538</td>\n",
       "</tr>\n",
       "<tr>\n",
       "  <th>sigma2</th>   <td> 7.132e+08</td> <td>    0.101</td> <td> 7.07e+09</td> <td> 0.000</td> <td> 7.13e+08</td> <td> 7.13e+08</td>\n",
       "</tr>\n",
       "</table>\n",
       "<table class=\"simpletable\">\n",
       "<tr>\n",
       "  <th>Ljung-Box (Q):</th>          <td>38.00</td> <th>  Jarque-Bera (JB):  </th> <td>87.99</td>\n",
       "</tr>\n",
       "<tr>\n",
       "  <th>Prob(Q):</th>                <td>0.56</td>  <th>  Prob(JB):          </th> <td>0.00</td> \n",
       "</tr>\n",
       "<tr>\n",
       "  <th>Heteroskedasticity (H):</th> <td>0.26</td>  <th>  Skew:              </th> <td>0.63</td> \n",
       "</tr>\n",
       "<tr>\n",
       "  <th>Prob(H) (two-sided):</th>    <td>0.00</td>  <th>  Kurtosis:          </th> <td>6.72</td> \n",
       "</tr>\n",
       "</table><br/><br/>Warnings:<br/>[1] Covariance matrix calculated using the outer product of gradients (complex-step).<br/>[2] Covariance matrix is singular or near-singular, with condition number 7.57e+25. Standard errors may be unstable."
      ],
      "text/plain": [
       "<class 'statsmodels.iolib.summary.Summary'>\n",
       "\"\"\"\n",
       "                                        SARIMAX Results                                        \n",
       "===============================================================================================\n",
       "Dep. Variable:                                       y   No. Observations:                  138\n",
       "Model:             SARIMAX(0, 1, 1)x(1, 0, [1, 2], 12)   Log Likelihood               -1590.542\n",
       "Date:                                 Sun, 11 Oct 2020   AIC                           3193.084\n",
       "Time:                                         15:53:03   BIC                           3210.604\n",
       "Sample:                                     02-01-2007   HQIC                          3200.204\n",
       "                                          - 07-01-2018                                         \n",
       "Covariance Type:                                   opg                                         \n",
       "==============================================================================\n",
       "                 coef    std err          z      P>|z|      [0.025      0.975]\n",
       "------------------------------------------------------------------------------\n",
       "bedrooms    1.384e+05   5858.389     23.619      0.000    1.27e+05     1.5e+05\n",
       "ma.L1         -0.6219      0.056    -11.157      0.000      -0.731      -0.513\n",
       "ar.S.L12       0.6421      0.312      2.056      0.040       0.030       1.254\n",
       "ma.S.L12      -0.8934      0.327     -2.736      0.006      -1.533      -0.253\n",
       "ma.S.L24       0.3614      0.090      4.007      0.000       0.185       0.538\n",
       "sigma2      7.132e+08      0.101   7.07e+09      0.000    7.13e+08    7.13e+08\n",
       "===================================================================================\n",
       "Ljung-Box (Q):                       38.00   Jarque-Bera (JB):                87.99\n",
       "Prob(Q):                              0.56   Prob(JB):                         0.00\n",
       "Heteroskedasticity (H):               0.26   Skew:                             0.63\n",
       "Prob(H) (two-sided):                  0.00   Kurtosis:                         6.72\n",
       "===================================================================================\n",
       "\n",
       "Warnings:\n",
       "[1] Covariance matrix calculated using the outer product of gradients (complex-step).\n",
       "[2] Covariance matrix is singular or near-singular, with condition number 7.57e+25. Standard errors may be unstable.\n",
       "\"\"\""
      ]
     },
     "execution_count": 54,
     "metadata": {},
     "output_type": "execute_result"
    }
   ],
   "source": [
    "auto_arima(train['price'], exogenous = train[['bedrooms']], seasonal=True,m=12).summary()"
   ]
  },
  {
   "cell_type": "code",
   "execution_count": 55,
   "metadata": {},
   "outputs": [],
   "source": [
    "model = SARIMAX(train['price'],exog=train['bedrooms'],order=(0,1,1),seasonal_order=(1, 0, [1,2], 12),enforce_invertibility=False)\n",
    "results = model.fit()"
   ]
  },
  {
   "cell_type": "code",
   "execution_count": 56,
   "metadata": {},
   "outputs": [],
   "source": [
    "# Obtain predicted values\n",
    "start=len(train)\n",
    "end=len(train)+len(test)-1\n",
    "exog_forecast = test[['bedrooms']]  \n",
    "sarimax_predictions = results.predict(start=start, end=end, exog=exog_forecast).rename('SARIMAX(0,1,1)(1,0,[1,2],12) Predictions')"
   ]
  },
  {
   "cell_type": "markdown",
   "metadata": {},
   "source": [
    "### Evaluate Model Performance"
   ]
  },
  {
   "cell_type": "code",
   "execution_count": 57,
   "metadata": {},
   "outputs": [
    {
     "name": "stdout",
     "output_type": "stream",
     "text": [
      "SARIMA(1,1,0)(1,0,1,12) MSE Error: 799596289.4\n",
      "SARIMA(1,1,0)(1,0,1,12) RMSE Error: 28277.13368\n",
      "\n",
      "SARIMAX(0,1,1)(1,0,[1,2],12) MSE Error: 248300696.2\n",
      "SARIMAX(0,1,1)(1,0,[1,2],12) RMSE Error: 15757.55997\n"
     ]
    }
   ],
   "source": [
    "# Print values from SARIMA above\n",
    "print(f'SARIMA(1,1,0)(1,0,1,12) MSE Error: {error1:11.10}')\n",
    "print(f'SARIMA(1,1,0)(1,0,1,12) RMSE Error: {error2:11.10}')\n",
    "print()\n",
    "\n",
    "error1x = mse(test['price'], sarimax_predictions)\n",
    "error2x = rmse(test['price'], sarimax_predictions)\n",
    "\n",
    "# Print new SARIMAX values\n",
    "print(f'SARIMAX(0,1,1)(1,0,[1,2],12) MSE Error: {error1x:11.10}')\n",
    "print(f'SARIMAX(0,1,1)(1,0,[1,2],12) RMSE Error: {error2x:11.10}')"
   ]
  },
  {
   "cell_type": "markdown",
   "metadata": {},
   "source": [
    "## Plot Predictions Against Known Values"
   ]
  },
  {
   "cell_type": "code",
   "execution_count": 58,
   "metadata": {},
   "outputs": [
    {
     "data": {
      "image/png": "[encoded data removed]",
      "text/plain": [
       "<Figure size 864x432 with 1 Axes>"
      ]
     },
     "metadata": {
      "needs_background": "light"
     },
     "output_type": "display_data"
    }
   ],
   "source": [
    "title='Monthly Housing Prices'\n",
    "ylabel='Housing Prices ($)'\n",
    "xlabel=''\n",
    "\n",
    "ax = test['price'].plot(legend=True,figsize=(12,6),title=title)\n",
    "sarima_predictions.plot(legend=True)\n",
    "sarimax_predictions.plot(legend=True)\n",
    "ax.autoscale(axis='x',tight=True)\n",
    "ax.set(xlabel=xlabel, ylabel=ylabel);"
   ]
  },
  {
   "cell_type": "markdown",
   "metadata": {},
   "source": [
    "## Conclusion\n",
    "Based on both our error measurements and by analyzing our plotted comparison of actauls vs SARIMA and SARIMAX models we can see that having knowledge of the average monthly # of bedrooms per house sold improves our ablity to forecast median housing values."
   ]
  }
 ],
 "metadata": {
  "kernelspec": {
   "display_name": "Python 3",
   "language": "python",
   "name": "python3"
  },
  "language_info": {
   "codemirror_mode": {
    "name": "ipython",
    "version": 3
   },
   "file_extension": ".py",
   "mimetype": "text/x-python",
   "name": "python",
   "nbconvert_exporter": "python",
   "pygments_lexer": "ipython3",
   "version": "3.8.3"
  }
 },
 "nbformat": 4,
 "nbformat_minor": 4
}
